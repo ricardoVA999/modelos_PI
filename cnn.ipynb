{
 "cells": [
  {
   "cell_type": "code",
   "execution_count": 5,
   "metadata": {},
   "outputs": [],
   "source": [
    "import psycopg2\n",
    "import pandas as pd\n",
    "import matplotlib.pyplot as plt\n",
    "import numpy as np\n",
    "from scipy import stats\n",
    "import seaborn as sns"
   ]
  },
  {
   "cell_type": "code",
   "execution_count": 6,
   "metadata": {},
   "outputs": [],
   "source": [
    "# Database connection parameters\n",
    "db_params = {\n",
    "    'dbname': 'integration',\n",
    "    'user': 'postgres',\n",
    "    'password': '1234',\n",
    "    'host': 'localhost',\n",
    "    'port': '5432'\n",
    "}"
   ]
  },
  {
   "cell_type": "code",
   "execution_count": 7,
   "metadata": {},
   "outputs": [
    {
     "name": "stderr",
     "output_type": "stream",
     "text": [
      "C:\\Users\\Zephyrus\\AppData\\Local\\Temp\\ipykernel_12068\\3958174467.py:8: UserWarning: pandas only supports SQLAlchemy connectable (engine/connection) or database string URI or sqlite3 DBAPI2 connection. Other DBAPI2 objects are not tested. Please consider using SQLAlchemy.\n",
      "  df = pd.read_sql_query(query, conn)\n"
     ]
    },
    {
     "name": "stdout",
     "output_type": "stream",
     "text": [
      "   duracion       fecha  hora  esquema                tabla  \\\n",
      "0        38  2024-06-01     0  sat_fel  p_dte_emisor_gtq_ag   \n",
      "1        42  2024-06-01     0  sat_fel  p_dte_emisor_gtq_ag   \n",
      "2        27  2024-06-01     0  sat_fel  p_dte_emisor_gtq_ag   \n",
      "3        15  2024-06-01     0  sat_fel  p_dte_emisor_gtq_ag   \n",
      "4        21  2024-06-01     0  sat_fel  p_dte_emisor_gtq_ag   \n",
      "\n",
      "                                    app  Day of month  ID Day of week  \\\n",
      "0  2ff814a6-3304-4ab8-85cb-cd0e6f879c1d             1               7   \n",
      "1  2ff814a6-3304-4ab8-85cb-cd0e6f879c1d             1               7   \n",
      "2  2ff814a6-3304-4ab8-85cb-cd0e6f879c1d             1               7   \n",
      "3  2ff814a6-3304-4ab8-85cb-cd0e6f879c1d             1               7   \n",
      "4  2ff814a6-3304-4ab8-85cb-cd0e6f879c1d             1               7   \n",
      "\n",
      "  Day of week    mean_st  ...  rango_final_by_table  tamañano_resp_by_table  \\\n",
      "0      sábado  28.165406  ...          7.980910e+07            2.439692e+06   \n",
      "1      sábado  28.165406  ...          7.980910e+07            2.439692e+06   \n",
      "2      sábado  28.165406  ...          7.980910e+07            2.439692e+06   \n",
      "3      sábado  28.165406  ...          7.980910e+07            2.439692e+06   \n",
      "4      sábado  28.165406  ...          7.980910e+07            2.439692e+06   \n",
      "\n",
      "   min_boundary     b_ound  Periodo Del Mes  Evento del Dia  \\\n",
      "0     10.282447  33.966935       Inicio Mes       Madrugada   \n",
      "1     10.282447  33.966935       Inicio Mes       Madrugada   \n",
      "2     10.282447  33.966935       Inicio Mes       Madrugada   \n",
      "3     10.282447  33.966935       Inicio Mes       Madrugada   \n",
      "4     10.282447  33.966935       Inicio Mes       Madrugada   \n",
      "\n",
      "   pre_clasificacion  latencia_by_day_month latencia_by_day_week SimultJobs  \n",
      "0            TARDADO              12.409888            13.422634       5360  \n",
      "1            TARDADO              12.409888            13.422634       5360  \n",
      "2             NORMAL              12.409888            13.422634       5360  \n",
      "3             NORMAL              12.409888            13.422634       5360  \n",
      "4             NORMAL              12.409888            13.422634       5360  \n",
      "\n",
      "[5 rows x 24 columns]\n"
     ]
    }
   ],
   "source": [
    "# Establishing the connection\n",
    "conn = psycopg2.connect(**db_params)\n",
    "\n",
    "# Define your SQL query\n",
    "query = \"SELECT * FROM db_events;\"\n",
    "\n",
    "# Execute the query and store the result in a pandas DataFrame\n",
    "df = pd.read_sql_query(query, conn)\n",
    "\n",
    "# Close the connection\n",
    "conn.close()\n",
    "\n",
    "# Display the DataFrame\n",
    "print(df.head())"
   ]
  },
  {
   "cell_type": "code",
   "execution_count": 8,
   "metadata": {},
   "outputs": [],
   "source": [
    "d_row = df[df['pre_clasificacion'] == 'NORMAL']\n",
    "\n",
    "# Randomly select 50% of those rows\n",
    "np.random.seed(0)  # For reproducibility\n",
    "sample_rows_d = d_row.sample(frac=0.7) #0.7\n",
    "\n",
    "# Drop the selected rows from the original DataFrame\n",
    "df = df.drop(sample_rows_d.index)"
   ]
  },
  {
   "cell_type": "code",
   "execution_count": 9,
   "metadata": {},
   "outputs": [],
   "source": [
    "from sklearn.model_selection import train_test_split\n",
    "from sklearn.naive_bayes import GaussianNB\n",
    "from sklearn.metrics import accuracy_score\n",
    "from sklearn.preprocessing import OrdinalEncoder\n",
    "from sklearn.compose import ColumnTransformer\n",
    "from sklearn.preprocessing import StandardScaler\n",
    "\n",
    "selected_cols = df[[ 'tabla','app','Day of month','ID Day of week'\n",
    "       ,'Evento del Dia','SimultJobs','latencia_by_day_month',\n",
    "       'latencia_by_day_week','pre_clasificacion']]\n",
    "\n",
    "categorical_columns = ['tabla', 'Evento del Dia','app']\n",
    "numeric_columns = ['ID Day of week','SimultJobs','Day of month','latencia_by_day_month','latencia_by_day_week']\n",
    "\n",
    "preprocessor = ColumnTransformer(\n",
    "    transformers=[\n",
    "        ('cat', OrdinalEncoder(), categorical_columns),\n",
    "        ('num', StandardScaler(), numeric_columns)\n",
    "    ])\n",
    "\n",
    "\n",
    "encoded_data = preprocessor.fit_transform(selected_cols)\n",
    "\n",
    "X = encoded_data\n",
    "y = selected_cols['pre_clasificacion']\n",
    "\n",
    "y_encoded = pd.get_dummies(y).values\n",
    "\n",
    "# Split the data into training and testing sets\n",
    "X_train, X_test, y_train, y_test = train_test_split(X, y_encoded, test_size=0.3, random_state=42, stratify=y)"
   ]
  },
  {
   "cell_type": "code",
   "execution_count": 6,
   "metadata": {},
   "outputs": [],
   "source": [
    "\n",
    "import tensorflow as tf\n",
    "from tensorflow.keras.models import Sequential\n",
    "from tensorflow.keras.layers import Dense, Conv1D, Flatten, MaxPooling1D, Dropout, BatchNormalization\n"
   ]
  },
  {
   "cell_type": "code",
   "execution_count": 7,
   "metadata": {},
   "outputs": [],
   "source": [
    "model = Sequential([\n",
    "    Dense(128, activation='relu', input_shape=(X_train.shape[1],)),\n",
    "    BatchNormalization(),\n",
    "    Dropout(0.5),\n",
    "    Dense(128, activation='relu'),\n",
    "    BatchNormalization(),\n",
    "    Dropout(0.5),\n",
    "    Dense(64, activation='relu'),\n",
    "    BatchNormalization(),\n",
    "    Dropout(0.4),\n",
    "    Dense(32, activation='relu'),\n",
    "    BatchNormalization(),\n",
    "    Dropout(0.3),\n",
    "    Dense(y_encoded.shape[1], activation='softmax')\n",
    "])"
   ]
  },
  {
   "cell_type": "code",
   "execution_count": 8,
   "metadata": {},
   "outputs": [
    {
     "name": "stdout",
     "output_type": "stream",
     "text": [
      "Epoch 1/20\n",
      "35884/35884 [==============================] - 137s 4ms/step - loss: 0.6527 - accuracy: 0.6307 - val_loss: 0.6315 - val_accuracy: 0.6570\n",
      "Epoch 2/20\n",
      "35884/35884 [==============================] - 132s 4ms/step - loss: 0.6432 - accuracy: 0.6435 - val_loss: 0.6267 - val_accuracy: 0.6589\n",
      "Epoch 3/20\n",
      "35884/35884 [==============================] - 134s 4ms/step - loss: 0.6412 - accuracy: 0.6458 - val_loss: 0.6281 - val_accuracy: 0.6588\n",
      "Epoch 4/20\n",
      "35884/35884 [==============================] - 135s 4ms/step - loss: 0.6395 - accuracy: 0.6470 - val_loss: 0.6293 - val_accuracy: 0.6592\n",
      "Epoch 5/20\n",
      "35884/35884 [==============================] - 136s 4ms/step - loss: 0.6383 - accuracy: 0.6482 - val_loss: 0.6263 - val_accuracy: 0.6592\n",
      "Epoch 6/20\n",
      "35884/35884 [==============================] - 156s 4ms/step - loss: 0.6374 - accuracy: 0.6495 - val_loss: 0.6277 - val_accuracy: 0.6545\n",
      "Epoch 7/20\n",
      "35884/35884 [==============================] - 114s 3ms/step - loss: 0.6374 - accuracy: 0.6495 - val_loss: 0.6259 - val_accuracy: 0.6613\n",
      "Epoch 8/20\n",
      "35884/35884 [==============================] - 117s 3ms/step - loss: 0.6366 - accuracy: 0.6503 - val_loss: 0.6252 - val_accuracy: 0.6627\n",
      "Epoch 9/20\n",
      "35884/35884 [==============================] - 121s 3ms/step - loss: 0.6363 - accuracy: 0.6508 - val_loss: 0.6257 - val_accuracy: 0.6555\n",
      "Epoch 10/20\n",
      "35884/35884 [==============================] - 119s 3ms/step - loss: 0.6355 - accuracy: 0.6509 - val_loss: 0.6255 - val_accuracy: 0.6554\n",
      "Epoch 11/20\n",
      "35884/35884 [==============================] - 130s 4ms/step - loss: 0.6350 - accuracy: 0.6516 - val_loss: 0.6231 - val_accuracy: 0.6625\n",
      "Epoch 12/20\n",
      "35884/35884 [==============================] - 120s 3ms/step - loss: 0.6347 - accuracy: 0.6514 - val_loss: 0.6258 - val_accuracy: 0.6539\n",
      "Epoch 13/20\n",
      "35884/35884 [==============================] - 121s 3ms/step - loss: 0.6347 - accuracy: 0.6513 - val_loss: 0.6232 - val_accuracy: 0.6624\n",
      "Epoch 14/20\n",
      "35884/35884 [==============================] - 125s 3ms/step - loss: 0.6353 - accuracy: 0.6507 - val_loss: 0.6232 - val_accuracy: 0.6578\n",
      "Epoch 15/20\n",
      "35884/35884 [==============================] - 134s 4ms/step - loss: 0.6349 - accuracy: 0.6509 - val_loss: 0.6224 - val_accuracy: 0.6573\n",
      "Epoch 16/20\n",
      "35884/35884 [==============================] - 120s 3ms/step - loss: 0.6349 - accuracy: 0.6510 - val_loss: 0.6239 - val_accuracy: 0.6623\n",
      "Epoch 17/20\n",
      "35884/35884 [==============================] - 120s 3ms/step - loss: 0.6350 - accuracy: 0.6511 - val_loss: 0.6231 - val_accuracy: 0.6625\n",
      "Epoch 18/20\n",
      "35884/35884 [==============================] - 120s 3ms/step - loss: 0.6341 - accuracy: 0.6514 - val_loss: 0.6249 - val_accuracy: 0.6592\n",
      "Epoch 19/20\n",
      "35884/35884 [==============================] - 121s 3ms/step - loss: 0.6339 - accuracy: 0.6516 - val_loss: 0.6240 - val_accuracy: 0.6609\n",
      "Epoch 20/20\n",
      "35884/35884 [==============================] - 120s 3ms/step - loss: 0.6339 - accuracy: 0.6522 - val_loss: 0.6223 - val_accuracy: 0.6609\n"
     ]
    },
    {
     "data": {
      "text/plain": [
       "<keras.callbacks.History at 0x1a2aaff3b80>"
      ]
     },
     "execution_count": 8,
     "metadata": {},
     "output_type": "execute_result"
    }
   ],
   "source": [
    "# Compiling the model\n",
    "model.compile(optimizer='adam', loss='categorical_crossentropy', metrics=['accuracy'])\n",
    "\n",
    "# Training the model\n",
    "model.fit(X_train, y_train, epochs=20, batch_size=32, validation_data=(X_test, y_test))"
   ]
  },
  {
   "cell_type": "code",
   "execution_count": 10,
   "metadata": {},
   "outputs": [],
   "source": [
    "\n",
    "# Predict for the test data\n",
    "predictions = model.predict(X_test)"
   ]
  },
  {
   "cell_type": "code",
   "execution_count": 11,
   "metadata": {},
   "outputs": [
    {
     "data": {
      "text/plain": [
       "array([[1, 0],\n",
       "       [0, 1],\n",
       "       [1, 0],\n",
       "       ...,\n",
       "       [0, 1],\n",
       "       [0, 1],\n",
       "       [1, 0]])"
      ]
     },
     "execution_count": 11,
     "metadata": {},
     "output_type": "execute_result"
    }
   ],
   "source": [
    "binary_predictions = np.array(predictions) > 0.5\n",
    "binary_predictions = binary_predictions.astype(int)\n",
    "binary_predictions"
   ]
  },
  {
   "cell_type": "code",
   "execution_count": 12,
   "metadata": {},
   "outputs": [],
   "source": [
    "pred = []\n",
    "\n",
    "for i in binary_predictions:\n",
    "    if i[0] == 1:\n",
    "        pred.append(0)\n",
    "    else:\n",
    "        pred.append(1)"
   ]
  },
  {
   "cell_type": "code",
   "execution_count": 13,
   "metadata": {},
   "outputs": [
    {
     "data": {
      "text/plain": [
       "array([[1, 0],\n",
       "       [0, 1],\n",
       "       [0, 1],\n",
       "       ...,\n",
       "       [0, 1],\n",
       "       [1, 0],\n",
       "       [1, 0]])"
      ]
     },
     "execution_count": 13,
     "metadata": {},
     "output_type": "execute_result"
    }
   ],
   "source": [
    "true_labels = np.array(y_test, dtype=int)\n",
    "true_labels"
   ]
  },
  {
   "cell_type": "code",
   "execution_count": 14,
   "metadata": {},
   "outputs": [],
   "source": [
    "true_y = []\n",
    "\n",
    "for i in true_labels:\n",
    "    if i[0] == 1:\n",
    "        true_y.append(0)\n",
    "    else:\n",
    "        true_y.append(1)"
   ]
  },
  {
   "cell_type": "code",
   "execution_count": 15,
   "metadata": {},
   "outputs": [
    {
     "data": {
      "image/png": "[encoded data removed]",
      "text/plain": [
       "<Figure size 432x288 with 2 Axes>"
      ]
     },
     "metadata": {
      "needs_background": "light"
     },
     "output_type": "display_data"
    }
   ],
   "source": [
    "from sklearn.metrics import confusion_matrix\n",
    "cm = confusion_matrix(true_y, pred)\n",
    "sns.heatmap(cm, annot=True, cmap='Blues', fmt='g')\n",
    "plt.xlabel('Predicted labels')\n",
    "plt.ylabel('True labels')\n",
    "plt.title('Confusion Matrix')\n",
    "plt.show()"
   ]
  },
  {
   "cell_type": "code",
   "execution_count": 16,
   "metadata": {},
   "outputs": [
    {
     "name": "stdout",
     "output_type": "stream",
     "text": [
      "Accuracy: 66.09%\n"
     ]
    }
   ],
   "source": [
    "accuracy = accuracy_score(true_y, pred)\n",
    "print(f'Accuracy: {accuracy * 100:.2f}%')"
   ]
  },
  {
   "cell_type": "code",
   "execution_count": 19,
   "metadata": {},
   "outputs": [
    {
     "name": "stdout",
     "output_type": "stream",
     "text": [
      "              precision    recall  f1-score   support\n",
      "\n",
      "      Normal       0.65      0.55      0.60    224814\n",
      "     Tardado       0.67      0.76      0.71    267297\n",
      "\n",
      "    accuracy                           0.66    492111\n",
      "   macro avg       0.66      0.65      0.65    492111\n",
      "weighted avg       0.66      0.66      0.66    492111\n",
      "\n"
     ]
    }
   ],
   "source": [
    "from sklearn.metrics import classification_report\n",
    "report = classification_report(true_y, pred, target_names=['Normal','Tardado'])\n",
    "print(report)"
   ]
  },
  {
   "cell_type": "code",
   "execution_count": 17,
   "metadata": {},
   "outputs": [],
   "source": [
    "model.save('cnn_clas.h5')"
   ]
  },
  {
   "cell_type": "code",
   "execution_count": 18,
   "metadata": {},
   "outputs": [],
   "source": [
    "from keras.models import load_model\n",
    "model = load_model('cnn_clas.h5')"
   ]
  }
 ],
 "metadata": {
  "kernelspec": {
   "display_name": "Python 3",
   "language": "python",
   "name": "python3"
  },
  "language_info": {
   "codemirror_mode": {
    "name": "ipython",
    "version": 3
   },
   "file_extension": ".py",
   "mimetype": "text/x-python",
   "name": "python",
   "nbconvert_exporter": "python",
   "pygments_lexer": "ipython3",
   "version": "3.9.10"
  }
 },
 "nbformat": 4,
 "nbformat_minor": 2
}

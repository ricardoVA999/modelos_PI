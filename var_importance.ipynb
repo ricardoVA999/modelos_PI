{
 "cells": [
  {
   "cell_type": "code",
   "execution_count": 249,
   "metadata": {},
   "outputs": [],
   "source": [
    "import psycopg2\n",
    "import pandas as pd\n",
    "import matplotlib.pyplot as plt\n",
    "import numpy as np\n",
    "from scipy import stats\n",
    "import seaborn as sns"
   ]
  },
  {
   "cell_type": "code",
   "execution_count": 250,
   "metadata": {},
   "outputs": [],
   "source": [
    "\n",
    "# Database connection parameters\n",
    "db_params = {\n",
    "    'dbname': 'integration',\n",
    "    'user': 'postgres',\n",
    "    'password': '1234',\n",
    "    'host': 'localhost',\n",
    "    'port': '5432'\n",
    "}\n"
   ]
  },
  {
   "cell_type": "code",
   "execution_count": 251,
   "metadata": {},
   "outputs": [
    {
     "name": "stderr",
     "output_type": "stream",
     "text": [
      "C:\\Users\\Zephyrus\\AppData\\Local\\Temp\\ipykernel_22344\\3958174467.py:8: UserWarning: pandas only supports SQLAlchemy connectable (engine/connection) or database string URI or sqlite3 DBAPI2 connection. Other DBAPI2 objects are not tested. Please consider using SQLAlchemy.\n",
      "  df = pd.read_sql_query(query, conn)\n"
     ]
    },
    {
     "name": "stdout",
     "output_type": "stream",
     "text": [
      "   duracion       fecha  hora  esquema                tabla  \\\n",
      "0        38  2024-06-01     0  sat_fel  p_dte_emisor_gtq_ag   \n",
      "1        42  2024-06-01     0  sat_fel  p_dte_emisor_gtq_ag   \n",
      "2        27  2024-06-01     0  sat_fel  p_dte_emisor_gtq_ag   \n",
      "3        15  2024-06-01     0  sat_fel  p_dte_emisor_gtq_ag   \n",
      "4        21  2024-06-01     0  sat_fel  p_dte_emisor_gtq_ag   \n",
      "\n",
      "                                    app  Day of month  ID Day of week  \\\n",
      "0  2ff814a6-3304-4ab8-85cb-cd0e6f879c1d             1               7   \n",
      "1  2ff814a6-3304-4ab8-85cb-cd0e6f879c1d             1               7   \n",
      "2  2ff814a6-3304-4ab8-85cb-cd0e6f879c1d             1               7   \n",
      "3  2ff814a6-3304-4ab8-85cb-cd0e6f879c1d             1               7   \n",
      "4  2ff814a6-3304-4ab8-85cb-cd0e6f879c1d             1               7   \n",
      "\n",
      "  Day of week    mean_st  ...  rango_final_by_table  tamañano_resp_by_table  \\\n",
      "0      sábado  28.165406  ...          7.980910e+07            2.439692e+06   \n",
      "1      sábado  28.165406  ...          7.980910e+07            2.439692e+06   \n",
      "2      sábado  28.165406  ...          7.980910e+07            2.439692e+06   \n",
      "3      sábado  28.165406  ...          7.980910e+07            2.439692e+06   \n",
      "4      sábado  28.165406  ...          7.980910e+07            2.439692e+06   \n",
      "\n",
      "   min_boundary     b_ound  Periodo Del Mes  Evento del Dia  \\\n",
      "0     10.282447  33.966935       Inicio Mes       Madrugada   \n",
      "1     10.282447  33.966935       Inicio Mes       Madrugada   \n",
      "2     10.282447  33.966935       Inicio Mes       Madrugada   \n",
      "3     10.282447  33.966935       Inicio Mes       Madrugada   \n",
      "4     10.282447  33.966935       Inicio Mes       Madrugada   \n",
      "\n",
      "   pre_clasificacion  latencia_by_day_month latencia_by_day_week SimultJobs  \n",
      "0            TARDADO              12.409888            13.422634       5360  \n",
      "1            TARDADO              12.409888            13.422634       5360  \n",
      "2             NORMAL              12.409888            13.422634       5360  \n",
      "3             NORMAL              12.409888            13.422634       5360  \n",
      "4             NORMAL              12.409888            13.422634       5360  \n",
      "\n",
      "[5 rows x 24 columns]\n"
     ]
    }
   ],
   "source": [
    "# Establishing the connection\n",
    "conn = psycopg2.connect(**db_params)\n",
    "\n",
    "# Define your SQL query\n",
    "query = \"SELECT * FROM db_events;\"\n",
    "\n",
    "# Execute the query and store the result in a pandas DataFrame\n",
    "df = pd.read_sql_query(query, conn)\n",
    "\n",
    "# Close the connection\n",
    "conn.close()\n",
    "\n",
    "# Display the DataFrame\n",
    "print(df.head())"
   ]
  },
  {
   "cell_type": "code",
   "execution_count": 252,
   "metadata": {},
   "outputs": [
    {
     "data": {
      "text/plain": [
       "Index(['duracion', 'fecha', 'hora', 'esquema', 'tabla', 'app', 'Day of month',\n",
       "       'ID Day of week', 'Day of week', 'mean_st', 'std_st', 'min', 'max',\n",
       "       'rango_inicial_by_table', 'rango_final_by_table',\n",
       "       'tamañano_resp_by_table', 'min_boundary', 'b_ound', 'Periodo Del Mes',\n",
       "       'Evento del Dia', 'pre_clasificacion', 'latencia_by_day_month',\n",
       "       'latencia_by_day_week', 'SimultJobs'],\n",
       "      dtype='object')"
      ]
     },
     "execution_count": 252,
     "metadata": {},
     "output_type": "execute_result"
    }
   ],
   "source": [
    "df.columns"
   ]
  },
  {
   "cell_type": "code",
   "execution_count": 253,
   "metadata": {},
   "outputs": [],
   "source": [
    "d_row = df[df['pre_clasificacion'] == 'NORMAL']\n",
    "\n",
    "# Randomly select 50% of those rows\n",
    "np.random.seed(0)  # For reproducibility\n",
    "sample_rows_d = d_row.sample(frac=0.64) #0.7\n",
    "\n",
    "# Drop the selected rows from the original DataFrame\n",
    "df = df.drop(sample_rows_d.index)"
   ]
  },
  {
   "cell_type": "code",
   "execution_count": 254,
   "metadata": {},
   "outputs": [],
   "source": [
    "from sklearn.model_selection import train_test_split\n",
    "from sklearn.tree import DecisionTreeClassifier\n",
    "from sklearn.metrics import accuracy_score\n",
    "from sklearn.preprocessing import OrdinalEncoder\n",
    "from sklearn.compose import ColumnTransformer\n",
    "\n",
    "selected_cols = df[[ 'tabla','app','Day of month','ID Day of week', 'min', 'max',\n",
    "       'rango_inicial_by_table', 'rango_final_by_table',\n",
    "       'tamañano_resp_by_table'\n",
    "       ,'Evento del Dia','SimultJobs','latencia_by_day_month',\n",
    "       'latencia_by_day_week','pre_clasificacion']]\n",
    "\n",
    "categorical_columns = ['tabla', 'Evento del Dia','app']\n",
    "numeric_columns = ['ID Day of week','min','max','SimultJobs','Day of month','rango_inicial_by_table','rango_final_by_table'\n",
    "                   ,'tamañano_resp_by_table','latencia_by_day_month','latencia_by_day_week']\n",
    "\n",
    "preprocessor = ColumnTransformer(\n",
    "    transformers=[\n",
    "        ('cat', OrdinalEncoder(), categorical_columns),\n",
    "        ('num', 'passthrough', numeric_columns)\n",
    "    ])\n",
    "\n",
    "\n",
    "encoded_data = preprocessor.fit_transform(selected_cols)\n",
    "\n",
    "X = encoded_data\n",
    "y = selected_cols['pre_clasificacion']\n",
    "\n",
    "# Split the data into training and testing sets\n",
    "X_train, X_test, y_train, y_test = train_test_split(X, y, test_size=0.3, random_state=42, stratify=y)"
   ]
  },
  {
   "cell_type": "code",
   "execution_count": 255,
   "metadata": {},
   "outputs": [
    {
     "name": "stdout",
     "output_type": "stream",
     "text": [
      "Counter({'NORMAL': 629477, 'TARDADO': 623693})\n"
     ]
    }
   ],
   "source": [
    "from collections import Counter\n",
    "# Get the frequency of elements in the list\n",
    "frequency = Counter(y_train)\n",
    "# Print the frequency\n",
    "print(frequency)"
   ]
  },
  {
   "cell_type": "code",
   "execution_count": 256,
   "metadata": {},
   "outputs": [
    {
     "name": "stdout",
     "output_type": "stream",
     "text": [
      "Counter({'NORMAL': 269776, 'TARDADO': 267298})\n"
     ]
    }
   ],
   "source": [
    "from collections import Counter\n",
    "# Get the frequency of elements in the list\n",
    "frequency = Counter(y_test)\n",
    "# Print the frequency\n",
    "print(frequency)"
   ]
  },
  {
   "cell_type": "code",
   "execution_count": 257,
   "metadata": {},
   "outputs": [
    {
     "name": "stdout",
     "output_type": "stream",
     "text": [
      "Accuracy: 67.56%\n"
     ]
    }
   ],
   "source": [
    "# Classificador de bayes\n",
    "nb = DecisionTreeClassifier()\n",
    "nb.fit(X_train, y_train)\n",
    "\n",
    "# Make predictions\n",
    "y_pred = nb.predict(X_test)\n",
    "\n",
    "# Calculate accuracy\n",
    "accuracy = accuracy_score(y_test, y_pred)\n",
    "print(f'Accuracy: {accuracy * 100:.2f}%')"
   ]
  },
  {
   "cell_type": "code",
   "execution_count": 258,
   "metadata": {},
   "outputs": [
    {
     "data": {
      "image/png": "[encoded data removed]",
      "text/plain": [
       "<Figure size 432x288 with 2 Axes>"
      ]
     },
     "metadata": {
      "needs_background": "light"
     },
     "output_type": "display_data"
    }
   ],
   "source": [
    "from sklearn.metrics import confusion_matrix\n",
    "cm = confusion_matrix(y_test, y_pred)\n",
    "sns.heatmap(cm, annot=True, cmap='Blues', fmt='g')\n",
    "plt.xlabel('Predicted labels')\n",
    "plt.ylabel('True labels')\n",
    "plt.title('Confusion Matrix')\n",
    "plt.show()"
   ]
  },
  {
   "cell_type": "code",
   "execution_count": 259,
   "metadata": {},
   "outputs": [
    {
     "name": "stdout",
     "output_type": "stream",
     "text": [
      "tabla: 0.0254793636619088\n",
      "app: 0.007271925999987189\n",
      "Day of month: 0.31111483860425526\n",
      "ID Day of week: 0.013666258586795533\n",
      "min: 0.006419303798174294\n",
      "max: 0.05474874222947953\n",
      "rango_inicial_by_table: 0.06512845045681682\n",
      "rango_final_by_table: 0.05079960982279815\n",
      "tamañano_resp_by_table: 0.011523595370861771\n",
      "Evento del Dia: 0.010370482777515682\n",
      "SimultJobs: 0.04504617195566402\n",
      "latencia_by_day_month: 0.35593930056210704\n",
      "latencia_by_day_week: 0.042491956173635936\n"
     ]
    }
   ],
   "source": [
    "importances = nb.feature_importances_\n",
    "\n",
    "# Print feature importances\n",
    "for feature, importance in zip(selected_cols.columns, importances):\n",
    "    print(f\"{feature}: {importance}\")"
   ]
  }
 ],
 "metadata": {
  "kernelspec": {
   "display_name": "Python 3",
   "language": "python",
   "name": "python3"
  },
  "language_info": {
   "codemirror_mode": {
    "name": "ipython",
    "version": 3
   },
   "file_extension": ".py",
   "mimetype": "text/x-python",
   "name": "python",
   "nbconvert_exporter": "python",
   "pygments_lexer": "ipython3",
   "version": "3.9.10"
  }
 },
 "nbformat": 4,
 "nbformat_minor": 2
}
